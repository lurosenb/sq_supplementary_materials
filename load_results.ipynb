{
 "cells": [
  {
   "cell_type": "code",
   "execution_count": 6,
   "metadata": {},
   "outputs": [],
   "source": [
    "import pandas as pd\n",
    "import numpy as np\n",
    "import pickle\n",
    "import math\n",
    "\n",
    "import utils\n",
    "import metrics_and_plotting"
   ]
  },
  {
   "cell_type": "markdown",
   "metadata": {},
   "source": [
    "### Note on XGBoost\n",
    "In order to generate the full results, you need to make sure you have a valid install of xgboost in this environment. Sometimes, that involves messing around with libomp, and can be a little painful. Best of luck!"
   ]
  },
  {
   "cell_type": "markdown",
   "metadata": {},
   "source": [
    "### Load Data\n",
    "Load the scenario that you are generating results for."
   ]
  },
  {
   "cell_type": "code",
   "execution_count": 7,
   "metadata": {},
   "outputs": [
    {
     "name": "stdout",
     "output_type": "stream",
     "text": [
      "['AGEP', 'SCHL', 'RELP']\n"
     ]
    }
   ],
   "source": [
    "scenario = \"ACSEmployment\" #ACSMobility, ACSPublicCoverage\n",
    "pd_all_data, pd_features, pd_target, pd_group =  utils.get_scenario(scenario)"
   ]
  },
  {
   "cell_type": "markdown",
   "metadata": {},
   "source": [
    "### Load Results\n",
    "For each list of results across runs that you're interested in regenerating, load the pickle files.\n",
    "\n",
    "Then, rerun the metric generation."
   ]
  },
  {
   "cell_type": "code",
   "execution_count": 8,
   "metadata": {},
   "outputs": [],
   "source": [
    "with open(\"employment_results_metrics/employment_balanced_results_7.pickle\", \"rb\") as output_file:\n",
    "    employment_balanced_results_7 = pickle.load(output_file)\n",
    "with open(\"employment_results_metrics/employment_fnr_results_7.pickle\", \"rb\") as output_file:\n",
    "    employment_fnr_results_7 = pickle.load(output_file)\n",
    "with open(\"employment_results_metrics/employment_sq_results_eps_7.pickle\", \"rb\") as output_file:\n",
    "    employment_sq_results_eps_7 = pickle.load(output_file)\n",
    "with open(\"employment_results_metrics/employment_mst_results_7.pickle\", \"rb\") as output_file:\n",
    "    employment_mst_results_7 = pickle.load(output_file)"
   ]
  },
  {
   "cell_type": "code",
   "execution_count": null,
   "metadata": {},
   "outputs": [],
   "source": [
    "fnr_results = metrics_and_plotting.generate_list_results(pd_all_data, employment_fnr_results_7, \"ACSEmployment\")\n",
    "mst_results = metrics_and_plotting.generate_list_results(pd_all_data, employment_mst_results_7, \"ACSEmployment\")\n",
    "sq_results = metrics_and_plotting.generate_list_results(pd_all_data, employment_sq_results_eps_7, \"ACSEmployment\")\n",
    "balanced_results = metrics_and_plotting.generate_list_results(pd_all_data, employment_balanced_results_7, \"ACSEmployment\")"
   ]
  },
  {
   "cell_type": "markdown",
   "metadata": {},
   "source": [
    "### Saving Results\n",
    "If you want, you can save the results you generated from the list with python pickle, which can be loaded and plotted with our box plotter."
   ]
  },
  {
   "cell_type": "code",
   "execution_count": null,
   "metadata": {},
   "outputs": [],
   "source": []
  }
 ],
 "metadata": {
  "interpreter": {
   "hash": "75ae39fb185b2e97d9f6fb1f28c7cc09709216ce708b2cace28bac267a90fa53"
  },
  "kernelspec": {
   "display_name": "Python 3.8.12 ('superquail_env')",
   "language": "python",
   "name": "python3"
  },
  "language_info": {
   "codemirror_mode": {
    "name": "ipython",
    "version": 3
   },
   "file_extension": ".py",
   "mimetype": "text/x-python",
   "name": "python",
   "nbconvert_exporter": "python",
   "pygments_lexer": "ipython3",
   "version": "3.8.12"
  },
  "orig_nbformat": 4
 },
 "nbformat": 4,
 "nbformat_minor": 2
}
